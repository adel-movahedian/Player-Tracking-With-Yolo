{
 "cells": [
  {
   "cell_type": "markdown",
   "metadata": {},
   "source": [
    "## Adel Movahedian 400102074"
   ]
  },
  {
   "cell_type": "code",
   "execution_count": 1,
   "metadata": {},
   "outputs": [
    {
     "name": "stdout",
     "output_type": "stream",
     "text": [
      "Requirement already satisfied: torch in c:\\users\\asus\\appdata\\local\\programs\\python\\python311\\lib\\site-packages (2.3.1)\n",
      "Requirement already satisfied: filelock in c:\\users\\asus\\appdata\\local\\programs\\python\\python311\\lib\\site-packages (from torch) (3.15.4)\n",
      "Requirement already satisfied: typing-extensions>=4.8.0 in c:\\users\\asus\\appdata\\local\\programs\\python\\python311\\lib\\site-packages (from torch) (4.12.2)\n",
      "Requirement already satisfied: sympy in c:\\users\\asus\\appdata\\local\\programs\\python\\python311\\lib\\site-packages (from torch) (1.12.1)\n",
      "Requirement already satisfied: networkx in c:\\users\\asus\\appdata\\local\\programs\\python\\python311\\lib\\site-packages (from torch) (3.1)\n",
      "Requirement already satisfied: jinja2 in c:\\users\\asus\\appdata\\local\\programs\\python\\python311\\lib\\site-packages (from torch) (3.1.4)\n",
      "Requirement already satisfied: fsspec in c:\\users\\asus\\appdata\\local\\programs\\python\\python311\\lib\\site-packages (from torch) (2024.6.0)\n",
      "Requirement already satisfied: mkl<=2021.4.0,>=2021.1.1 in c:\\users\\asus\\appdata\\local\\programs\\python\\python311\\lib\\site-packages (from torch) (2021.4.0)\n",
      "Requirement already satisfied: intel-openmp==2021.* in c:\\users\\asus\\appdata\\local\\programs\\python\\python311\\lib\\site-packages (from mkl<=2021.4.0,>=2021.1.1->torch) (2021.4.0)\n",
      "Requirement already satisfied: tbb==2021.* in c:\\users\\asus\\appdata\\local\\programs\\python\\python311\\lib\\site-packages (from mkl<=2021.4.0,>=2021.1.1->torch) (2021.13.0)\n",
      "Requirement already satisfied: MarkupSafe>=2.0 in c:\\users\\asus\\appdata\\local\\programs\\python\\python311\\lib\\site-packages (from jinja2->torch) (2.1.5)\n",
      "Requirement already satisfied: mpmath<1.4.0,>=1.1.0 in c:\\users\\asus\\appdata\\local\\programs\\python\\python311\\lib\\site-packages (from sympy->torch) (1.3.0)\n"
     ]
    }
   ],
   "source": [
    "!pip install torch"
   ]
  },
  {
   "cell_type": "code",
   "execution_count": null,
   "metadata": {},
   "outputs": [
    {
     "name": "stdout",
     "output_type": "stream",
     "text": [
      "Sample sequence contents:\n",
      "['gt', 'img1', 'seqinfo.ini']\n",
      "Train samples: 1727\n"
     ]
    }
   ],
   "source": [
    "import os\n",
    "import cv2\n",
    "import torch\n",
    "import pandas as pd\n",
    "from torch.utils.data import Dataset, DataLoader\n",
    "from torchvision import transforms\n",
    "from PIL import Image\n",
    "\n",
    "DATA_ROOT = \"SportsMOT_example/dataset\"\n",
    "TRAIN_DIR = os.path.join(DATA_ROOT, \"train\")\n",
    "# VAL_DIR = os.path.join(DATA_ROOT, \"val\")\n",
    "# TEST_DIR = os.path.join(DATA_ROOT, \"test\") not in the dataset\n",
    "\n",
    "sample_seq = os.path.join(TRAIN_DIR, \"football\")\n",
    "print(\"Sample sequence contents:\")\n",
    "print(os.listdir(sample_seq))\n",
    "\n",
    "\n",
    "class SportsMOTDataset(Dataset):\n",
    "    def __init__(self, root_dir, transform=None):\n",
    "        self.root_dir = root_dir\n",
    "        self.transform = transform\n",
    "        self.sequences = [d for d in os.listdir(root_dir) if os.path.isdir(os.path.join(root_dir, d))]\n",
    "\n",
    "        self.samples = []\n",
    "        for seq in self.sequences:\n",
    "            seq_path = os.path.join(root_dir, seq)\n",
    "            img_dir = os.path.join(seq_path, \"img1\")\n",
    "            gt_file = os.path.join(seq_path, \"gt\", \"gt.txt\")\n",
    "\n",
    "            try:\n",
    "                annotations = pd.read_csv(\n",
    "                    gt_file, header=None,\n",
    "                    names=['frame', 'id', 'x', 'y', 'w', 'h', 'conf', 'cls', 'vis']\n",
    "                )\n",
    "                annotations = annotations[annotations['cls'] == 1]\n",
    "            except FileNotFoundError:\n",
    "                print(f\"Annotation file not found for sequence: {seq}\")\n",
    "                continue\n",
    "\n",
    "            frame_files = sorted([\n",
    "                f for f in os.listdir(img_dir)\n",
    "                if f.endswith('.jpg') and f.split('.')[0].isdigit()\n",
    "            ])\n",
    "\n",
    "            for frame_file in frame_files:\n",
    "                frame_num = int(frame_file.split('.')[0])\n",
    "                frame_anns = annotations[annotations['frame'] == frame_num]\n",
    "                self.samples.append({\n",
    "                    'image_path': os.path.join(img_dir, frame_file),\n",
    "                    'annotations': frame_anns\n",
    "                })\n",
    "\n",
    "    def __len__(self):\n",
    "        return len(self.samples)\n",
    "\n",
    "    def __getitem__(self, idx):\n",
    "        sample = self.samples[idx]\n",
    "        image = cv2.imread(sample['image_path'])\n",
    "        if image is None:\n",
    "            raise ValueError(f\"Failed to load image: {sample['image_path']}\")\n",
    "        image = cv2.cvtColor(image, cv2.COLOR_BGR2RGB)\n",
    "        anns = sample['annotations']\n",
    "        boxes = anns[['x', 'y', 'w', 'h']].values.astype(float)\n",
    "        boxes[:, 2:] += boxes[:, :2]\n",
    "        boxes = torch.as_tensor(boxes, dtype=torch.float32)\n",
    "        labels = torch.ones((len(anns),), dtype=torch.int64)\n",
    "        if self.transform:\n",
    "            image = self.transform(image)\n",
    "        return image, {\n",
    "            'boxes': boxes,\n",
    "            'labels': labels,\n",
    "            'image_id': torch.tensor([idx]),\n",
    "            'area': (boxes[:, 3] - boxes[:, 1]) * (boxes[:, 2] - boxes[:, 0]),\n",
    "            'iscrowd': torch.zeros((len(anns),), dtype=torch.int64)\n",
    "        }\n",
    "transform = transforms.Compose([\n",
    "    transforms.ToPILImage(),\n",
    "    transforms.Resize((640, 640)),\n",
    "    transforms.ToTensor(),\n",
    "    transforms.Normalize(mean=[0.485, 0.456, 0.406], std=[0.229, 0.224, 0.225])\n",
    "])\n",
    "\n",
    "train_dataset = SportsMOTDataset(TRAIN_DIR, transform=transform)\n",
    "\n",
    "def collate_fn(batch):\n",
    "    return tuple(zip(*batch))\n",
    "\n",
    "BATCH_SIZE = 4\n",
    "train_loader = DataLoader(\n",
    "    train_dataset,\n",
    "    batch_size=BATCH_SIZE,\n",
    "    shuffle=True,\n",
    "    num_workers=0,\n",
    "    collate_fn=collate_fn\n",
    ")\n",
    "\n",
    "print(f\"Train samples: {len(train_dataset)}\")\n"
   ]
  },
  {
   "cell_type": "code",
   "execution_count": 42,
   "metadata": {},
   "outputs": [
    {
     "name": "stdout",
     "output_type": "stream",
     "text": [
      "Batch size: 4\n",
      "First image shape: torch.Size([3, 640, 640])\n",
      "First target boxes: tensor([[ 23., 308.,  59., 393.],\n",
      "        [274., 382., 317., 476.]])\n"
     ]
    }
   ],
   "source": [
    "# Test the dataloader\n",
    "for images, targets in train_loader:\n",
    "    print(f\"Batch size: {len(images)}\")\n",
    "    print(f\"First image shape: {images[0].shape}\")\n",
    "    print(f\"First target boxes: {targets[0]['boxes'][:2]}\")\n",
    "    break\n"
   ]
  },
  {
   "cell_type": "code",
   "execution_count": 43,
   "metadata": {},
   "outputs": [
    {
     "name": "stdout",
     "output_type": "stream",
     "text": [
      "Video saved to train_clip2.mp4\n"
     ]
    }
   ],
   "source": [
    "import cv2\n",
    "from IPython.display import Video\n",
    "\n",
    "def create_video_from_sequence(dataset, output_path=\"sample_clip2.mp4\", idx=0, fps=10):\n",
    "    sequence_dir = dataset.sequences[idx]\n",
    "    seq_path = os.path.join(dataset.root_dir, sequence_dir, \"img1\")\n",
    "    images = sorted([os.path.join(seq_path, img) for img in os.listdir(seq_path) if img.endswith(\".jpg\")])\n",
    "    gt_file = os.path.join(dataset.root_dir, sequence_dir, \"gt\", \"gt.txt\")\n",
    "    annotations = pd.read_csv(gt_file, header=None, names=['frame', 'id', 'x', 'y', 'w', 'h', 'conf', 'cls', 'vis'])\n",
    "    annotations = annotations[annotations['cls']==1]\n",
    "    sample_image = cv2.imread(images[0])\n",
    "    height, width, _ = sample_image.shape\n",
    "    fourcc = cv2.VideoWriter_fourcc(*\"mp4v\")\n",
    "    video_writer = cv2.VideoWriter(output_path, fourcc, fps, (width, height))\n",
    "    for img_path in images:\n",
    "        frame_num = int(os.path.basename(img_path).split(\".\")[0])\n",
    "        frame = cv2.imread(img_path)\n",
    "        frame_anns = annotations[annotations['frame'] == frame_num]\n",
    "        for _, row in frame_anns.iterrows():\n",
    "            x, y, w, h = int(row['x']), int(row['y']), int(row['w']), int(row['h'])\n",
    "            color = (0, 255, 0)  # Green box\n",
    "            cv2.rectangle(frame, (x, y), (x + w, y + h), color, 2)\n",
    "            label = f\"ID: {int(row['id'])}\"\n",
    "            cv2.putText(frame, label, (x, y - 10), cv2.FONT_HERSHEY_SIMPLEX, 0.5, color, 2)\n",
    "        video_writer.write(frame)\n",
    "\n",
    "    video_writer.release()\n",
    "    print(f\"Video saved to {output_path}\")\n",
    "\n",
    "create_video_from_sequence(train_dataset, output_path=\"train_clip2.mp4\", idx=0, fps=20)\n"
   ]
  }
 ],
 "metadata": {
  "kernelspec": {
   "display_name": "Python 3",
   "language": "python",
   "name": "python3"
  },
  "language_info": {
   "codemirror_mode": {
    "name": "ipython",
    "version": 3
   },
   "file_extension": ".py",
   "mimetype": "text/x-python",
   "name": "python",
   "nbconvert_exporter": "python",
   "pygments_lexer": "ipython3",
   "version": "3.11.3"
  }
 },
 "nbformat": 4,
 "nbformat_minor": 2
}
